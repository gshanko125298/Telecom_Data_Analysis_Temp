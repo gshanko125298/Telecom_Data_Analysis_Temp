{
 "cells": [
  {
   "cell_type": "raw",
   "id": "f5dd1613",
   "metadata": {},
   "source": [
    "\n",
    "In this session  We will Cover\n",
    "\n",
    "    PySpark Dataframe\n",
    "    Reading The Dataset\n",
    "    Checking the Datatypes of the Column(Schema)\n",
    "    Selecting Columns And Indexing\n",
    "    Check Describe option similar to Pandas\n",
    "    Adding Columns\n",
    "    Dropping columns\n",
    "    Renaming Columns\n",
    "\n"
   ]
  },
  {
   "cell_type": "markdown",
   "id": "1e32b4af",
   "metadata": {},
   "source": [
    "# Pyspark Dataframe"
   ]
  },
  {
   "cell_type": "code",
   "execution_count": 1,
   "id": "fb6ba089",
   "metadata": {},
   "outputs": [],
   "source": [
    "from pyspark.sql import SparkSession"
   ]
  },
  {
   "cell_type": "code",
   "execution_count": 3,
   "id": "78fed469",
   "metadata": {},
   "outputs": [],
   "source": [
    "spark=SparkSession.builder.appName('Dataframe').getOrCreate()"
   ]
  },
  {
   "cell_type": "code",
   "execution_count": 4,
   "id": "173adf3d",
   "metadata": {},
   "outputs": [
    {
     "data": {
      "text/html": [
       "\n",
       "            <div>\n",
       "                <p><b>SparkSession - in-memory</b></p>\n",
       "                \n",
       "        <div>\n",
       "            <p><b>SparkContext</b></p>\n",
       "\n",
       "            <p><a href=\"http://192.168.193.95:4041\">Spark UI</a></p>\n",
       "\n",
       "            <dl>\n",
       "              <dt>Version</dt>\n",
       "                <dd><code>v3.4.0</code></dd>\n",
       "              <dt>Master</dt>\n",
       "                <dd><code>local[*]</code></dd>\n",
       "              <dt>AppName</dt>\n",
       "                <dd><code>Dataframe</code></dd>\n",
       "            </dl>\n",
       "        </div>\n",
       "        \n",
       "            </div>\n",
       "        "
      ],
      "text/plain": [
       "<pyspark.sql.session.SparkSession at 0x7f0b43fa1900>"
      ]
     },
     "execution_count": 4,
     "metadata": {},
     "output_type": "execute_result"
    }
   ],
   "source": [
    "spark"
   ]
  },
  {
   "cell_type": "code",
   "execution_count": 12,
   "id": "dc6ef94e",
   "metadata": {},
   "outputs": [],
   "source": [
    "## read the dataset\n",
    "df_pyspark=spark.read.option('header','true').csv('file:///home/genet/Desktop/Test1.csv',inferSchema=True)"
   ]
  },
  {
   "cell_type": "code",
   "execution_count": 13,
   "id": "a851b10d",
   "metadata": {},
   "outputs": [
    {
     "name": "stdout",
     "output_type": "stream",
     "text": [
      "root\n",
      " |-- Name: string (nullable = true)\n",
      " |-- Age: integer (nullable = true)\n",
      " |-- Experience: integer (nullable = true)\n",
      " |-- Salary: integer (nullable = true)\n",
      "\n"
     ]
    }
   ],
   "source": [
    "## Check the schema\n",
    "df_pyspark.printSchema()\n"
   ]
  },
  {
   "cell_type": "code",
   "execution_count": 14,
   "id": "1796ccc7",
   "metadata": {},
   "outputs": [
    {
     "name": "stdout",
     "output_type": "stream",
     "text": [
      "+------+---+----------+------+\n",
      "|  Name|Age|Experience|Salary|\n",
      "+------+---+----------+------+\n",
      "| Genet| 31|        10| 30000|\n",
      "| Ababe| 30|         8| 25000|\n",
      "|Kebede| 29|         4| 20000|\n",
      "| Sofil| 24|         3| 20000|\n",
      "|Meryum| 21|         1| 15000|\n",
      "|  Sani| 23|         2| 18000|\n",
      "+------+---+----------+------+\n",
      "\n"
     ]
    }
   ],
   "source": [
    "df_pyspark=spark.read.csv('file:///home/genet/Desktop/Test1.csv',header=True,inferSchema=True)\n",
    "df_pyspark.show()"
   ]
  },
  {
   "cell_type": "code",
   "execution_count": 15,
   "id": "7a605089",
   "metadata": {},
   "outputs": [
    {
     "name": "stdout",
     "output_type": "stream",
     "text": [
      "root\n",
      " |-- Name: string (nullable = true)\n",
      " |-- Age: integer (nullable = true)\n",
      " |-- Experience: integer (nullable = true)\n",
      " |-- Salary: integer (nullable = true)\n",
      "\n"
     ]
    }
   ],
   "source": [
    "### Check the schema\n",
    "df_pyspark.printSchema()"
   ]
  },
  {
   "cell_type": "code",
   "execution_count": 16,
   "id": "f46b6f8b",
   "metadata": {},
   "outputs": [
    {
     "data": {
      "text/plain": [
       "pyspark.sql.dataframe.DataFrame"
      ]
     },
     "execution_count": 16,
     "metadata": {},
     "output_type": "execute_result"
    }
   ],
   "source": [
    "type(df_pyspark)"
   ]
  },
  {
   "cell_type": "code",
   "execution_count": 17,
   "id": "627af269",
   "metadata": {},
   "outputs": [
    {
     "data": {
      "text/plain": [
       "[Row(Name='Genet', Age=31, Experience=10, Salary=30000),\n",
       " Row(Name='Ababe', Age=30, Experience=8, Salary=25000),\n",
       " Row(Name='Kebede', Age=29, Experience=4, Salary=20000)]"
      ]
     },
     "execution_count": 17,
     "metadata": {},
     "output_type": "execute_result"
    }
   ],
   "source": [
    "df_pyspark.head(3)"
   ]
  },
  {
   "cell_type": "code",
   "execution_count": 18,
   "id": "a54fec60",
   "metadata": {},
   "outputs": [
    {
     "name": "stdout",
     "output_type": "stream",
     "text": [
      "+------+---+----------+------+\n",
      "|  Name|Age|Experience|Salary|\n",
      "+------+---+----------+------+\n",
      "| Genet| 31|        10| 30000|\n",
      "| Ababe| 30|         8| 25000|\n",
      "|Kebede| 29|         4| 20000|\n",
      "| Sofil| 24|         3| 20000|\n",
      "|Meryum| 21|         1| 15000|\n",
      "|  Sani| 23|         2| 18000|\n",
      "+------+---+----------+------+\n",
      "\n"
     ]
    }
   ],
   "source": [
    "df_pyspark.show()"
   ]
  },
  {
   "cell_type": "code",
   "execution_count": 19,
   "id": "4105ef6c",
   "metadata": {},
   "outputs": [
    {
     "name": "stdout",
     "output_type": "stream",
     "text": [
      "+------+----------+\n",
      "|  Name|Experience|\n",
      "+------+----------+\n",
      "| Genet|        10|\n",
      "| Ababe|         8|\n",
      "|Kebede|         4|\n",
      "| Sofil|         3|\n",
      "|Meryum|         1|\n",
      "|  Sani|         2|\n",
      "+------+----------+\n",
      "\n"
     ]
    }
   ],
   "source": [
    "\n",
    "\n",
    "df_pyspark.select(['Name','Experience']).show()\n",
    "\n"
   ]
  },
  {
   "cell_type": "code",
   "execution_count": 20,
   "id": "7c514e2e",
   "metadata": {},
   "outputs": [
    {
     "data": {
      "text/plain": [
       "Column<'Name'>"
      ]
     },
     "execution_count": 20,
     "metadata": {},
     "output_type": "execute_result"
    }
   ],
   "source": [
    "df_pyspark['Name']"
   ]
  },
  {
   "cell_type": "code",
   "execution_count": 21,
   "id": "bf313eb1",
   "metadata": {},
   "outputs": [
    {
     "data": {
      "text/plain": [
       "[('Name', 'string'), ('Age', 'int'), ('Experience', 'int'), ('Salary', 'int')]"
      ]
     },
     "execution_count": 21,
     "metadata": {},
     "output_type": "execute_result"
    }
   ],
   "source": [
    "df_pyspark.dtypes"
   ]
  },
  {
   "cell_type": "code",
   "execution_count": 23,
   "id": "b34e442f",
   "metadata": {},
   "outputs": [
    {
     "name": "stdout",
     "output_type": "stream",
     "text": [
      "+-------+-----+------------------+-----------------+------------------+\n",
      "|summary| Name|               Age|       Experience|            Salary|\n",
      "+-------+-----+------------------+-----------------+------------------+\n",
      "|  count|    6|                 6|                6|                 6|\n",
      "|   mean| null|26.333333333333332|4.666666666666667|21333.333333333332|\n",
      "| stddev| null| 4.179314138308661|3.559026084010437| 5354.126134736337|\n",
      "|    min|Ababe|                21|                1|             15000|\n",
      "|    max|Sofil|                31|               10|             30000|\n",
      "+-------+-----+------------------+-----------------+------------------+\n",
      "\n"
     ]
    }
   ],
   "source": [
    "df_pyspark.describe().show()\n"
   ]
  },
  {
   "cell_type": "code",
   "execution_count": 24,
   "id": "12df1799",
   "metadata": {},
   "outputs": [],
   "source": [
    "### Adding Columns in data frame\n",
    "df_pyspark=df_pyspark.withColumn('Experience After 2 year',df_pyspark['Experience']+2)\n"
   ]
  },
  {
   "cell_type": "code",
   "execution_count": 25,
   "id": "321598ff",
   "metadata": {},
   "outputs": [
    {
     "name": "stdout",
     "output_type": "stream",
     "text": [
      "+------+---+----------+------+-----------------------+\n",
      "|  Name|Age|Experience|Salary|Experience After 2 year|\n",
      "+------+---+----------+------+-----------------------+\n",
      "| Genet| 31|        10| 30000|                     12|\n",
      "| Ababe| 30|         8| 25000|                     10|\n",
      "|Kebede| 29|         4| 20000|                      6|\n",
      "| Sofil| 24|         3| 20000|                      5|\n",
      "|Meryum| 21|         1| 15000|                      3|\n",
      "|  Sani| 23|         2| 18000|                      4|\n",
      "+------+---+----------+------+-----------------------+\n",
      "\n"
     ]
    }
   ],
   "source": [
    "df_pyspark.show()"
   ]
  },
  {
   "cell_type": "code",
   "execution_count": 27,
   "id": "bb4ed5e1",
   "metadata": {},
   "outputs": [],
   "source": [
    "### Drop the columns\n",
    "df_pyspark=df_pyspark.drop('Experience After 2 year')"
   ]
  },
  {
   "cell_type": "code",
   "execution_count": 28,
   "id": "dfab7481",
   "metadata": {},
   "outputs": [
    {
     "name": "stdout",
     "output_type": "stream",
     "text": [
      "+------+---+----------+------+\n",
      "|  Name|Age|Experience|Salary|\n",
      "+------+---+----------+------+\n",
      "| Genet| 31|        10| 30000|\n",
      "| Ababe| 30|         8| 25000|\n",
      "|Kebede| 29|         4| 20000|\n",
      "| Sofil| 24|         3| 20000|\n",
      "|Meryum| 21|         1| 15000|\n",
      "|  Sani| 23|         2| 18000|\n",
      "+------+---+----------+------+\n",
      "\n"
     ]
    }
   ],
   "source": [
    "df_pyspark.show()"
   ]
  },
  {
   "cell_type": "code",
   "execution_count": 29,
   "id": "af164f3c",
   "metadata": {},
   "outputs": [
    {
     "name": "stdout",
     "output_type": "stream",
     "text": [
      "+--------+---+----------+------+\n",
      "|New Name|Age|Experience|Salary|\n",
      "+--------+---+----------+------+\n",
      "|   Genet| 31|        10| 30000|\n",
      "|   Ababe| 30|         8| 25000|\n",
      "|  Kebede| 29|         4| 20000|\n",
      "|   Sofil| 24|         3| 20000|\n",
      "|  Meryum| 21|         1| 15000|\n",
      "|    Sani| 23|         2| 18000|\n",
      "+--------+---+----------+------+\n",
      "\n"
     ]
    }
   ],
   "source": [
    "### Rename the columns\n",
    "df_pyspark.withColumnRenamed('Name','New Name').show()\n"
   ]
  },
  {
   "cell_type": "code",
   "execution_count": null,
   "id": "b6634c1d",
   "metadata": {},
   "outputs": [],
   "source": []
  }
 ],
 "metadata": {
  "kernelspec": {
   "display_name": "Python 3 (ipykernel)",
   "language": "python",
   "name": "python3"
  },
  "language_info": {
   "codemirror_mode": {
    "name": "ipython",
    "version": 3
   },
   "file_extension": ".py",
   "mimetype": "text/x-python",
   "name": "python",
   "nbconvert_exporter": "python",
   "pygments_lexer": "ipython3",
   "version": "3.10.6"
  }
 },
 "nbformat": 4,
 "nbformat_minor": 5
}
